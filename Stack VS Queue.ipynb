{
 "cells": [
  {
   "cell_type": "markdown",
   "metadata": {},
   "source": [
    "# Stack VS Queue\n",
    "\n",
    "Example is based on the tutorial at: <https://stackabuse.com/stacks-and-queues-in-python/>\n",
    "\n",
    "### Using List to Implement\n",
    "Python's built-in List data structure comes bundled with methods to simulate both stack and queue operations.\n",
    "\n",
    "Let's consider a stack of letters:"
   ]
  },
  {
   "cell_type": "code",
   "execution_count": 1,
   "metadata": {},
   "outputs": [
    {
     "name": "stdout",
     "output_type": "stream",
     "text": [
      "g\n",
      "t\n",
      "['c', 'a']\n"
     ]
    }
   ],
   "source": [
    "letters = []\n",
    "\n",
    "# Let's push some letters into our list\n",
    "letters.append('c')\n",
    "letters.append('a')\n",
    "letters.append('t')\n",
    "letters.append('g')\n",
    "\n",
    "# Now let's pop letters, we should get 'g'\n",
    "last_item = letters.pop()\n",
    "print(last_item)\n",
    "\n",
    "# If we pop again we'll get 't'\n",
    "last_item = letters.pop()\n",
    "print(last_item)\n",
    "\n",
    "# 'c' and 'a' remain\n",
    "print(letters) # ['c', 'a']"
   ]
  },
  {
   "cell_type": "markdown",
   "metadata": {},
   "source": [
    "We can use the same functions to implement a Queue. The pop function optionally takes the index of the item we want to retrieve as an argument.\n",
    "\n",
    "So we can use pop with the first index of the list i.e. 0, to get queue-like behavior.\n",
    "\n",
    "Consider a \"queue\" of fruits:"
   ]
  },
  {
   "cell_type": "code",
   "execution_count": 2,
   "metadata": {},
   "outputs": [
    {
     "name": "stdout",
     "output_type": "stream",
     "text": [
      "banana\n",
      "grapes\n",
      "['mango', 'orange']\n"
     ]
    }
   ],
   "source": [
    "fruits = []\n",
    "\n",
    "# Let's enqueue some fruits into our list\n",
    "fruits.append('banana')\n",
    "fruits.append('grapes')\n",
    "fruits.append('mango')\n",
    "fruits.append('orange')\n",
    "\n",
    "# Now let's dequeue our fruits, we should get 'banana'\n",
    "first_item = fruits.pop(0)\n",
    "print(first_item)\n",
    "\n",
    "# If we dequeue again we'll get 'grapes'\n",
    "first_item = fruits.pop(0)\n",
    "print(first_item)\n",
    "\n",
    "# 'mango' and 'orange' remain\n",
    "print(fruits) # ['c', 'a']"
   ]
  },
  {
   "cell_type": "markdown",
   "metadata": {},
   "source": [
    "Again, here we use the <mark>append and pop</mark> operations of the list to simulate the core operations of a queue."
   ]
  },
  {
   "cell_type": "markdown",
   "metadata": {},
   "source": [
    "### Using Deque Library\n",
    "Python has a deque (pronounced 'deck') library that provides a sequence with efficient methods to work as a stack or a queue.\n",
    "\n",
    "deque is short for Double Ended Queue - a generalized queue that can get the first or last element that's stored:"
   ]
  },
  {
   "cell_type": "code",
   "execution_count": 3,
   "metadata": {},
   "outputs": [
    {
     "name": "stdout",
     "output_type": "stream",
     "text": [
      "47\n",
      "deque([99, 15, 82, 50])\n",
      "99\n",
      "deque([15, 82, 50])\n"
     ]
    }
   ],
   "source": [
    "from collections import deque\n",
    "\n",
    "# you can initialize a deque with a list \n",
    "numbers = deque()\n",
    "\n",
    "# Use append like before to add elements\n",
    "numbers.append(99)\n",
    "numbers.append(15)\n",
    "numbers.append(82)\n",
    "numbers.append(50)\n",
    "numbers.append(47)\n",
    "\n",
    "# You can pop like a stack\n",
    "last_item = numbers.pop()\n",
    "print(last_item) # 47\n",
    "print(numbers) # deque([99, 15, 82, 50])\n",
    "\n",
    "# You can dequeue like a queue\n",
    "first_item = numbers.popleft()\n",
    "print(first_item) # 99\n",
    "print(numbers) # deque([15, 82, 50])"
   ]
  },
  {
   "cell_type": "code",
   "execution_count": null,
   "metadata": {},
   "outputs": [],
   "source": []
  }
 ],
 "metadata": {
  "kernelspec": {
   "display_name": "Python 3",
   "language": "python",
   "name": "python3"
  },
  "language_info": {
   "codemirror_mode": {
    "name": "ipython",
    "version": 3
   },
   "file_extension": ".py",
   "mimetype": "text/x-python",
   "name": "python",
   "nbconvert_exporter": "python",
   "pygments_lexer": "ipython3",
   "version": "3.6.9"
  }
 },
 "nbformat": 4,
 "nbformat_minor": 4
}
